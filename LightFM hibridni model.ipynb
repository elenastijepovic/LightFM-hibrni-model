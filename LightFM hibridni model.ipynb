{
 "cells": [
  {
   "cell_type": "markdown",
   "metadata": {},
   "source": [
    "Hibridni sistem projektovan koriščenjem LightFm bibilioteke"
   ]
  },
  {
   "cell_type": "markdown",
   "metadata": {},
   "source": [
    "Učitavanje neophodnih biblioteka"
   ]
  },
  {
   "cell_type": "code",
   "execution_count": null,
   "metadata": {},
   "outputs": [],
   "source": [
    "import numpy as np\n",
    "from lightfm.datasets import fetch_movielens\n",
    "from lightfm import LightFM \n",
    "from lightfm.evaluation import precision_at_k\n",
    "from lightfm.evaluation import auc_score\n",
    "from lightfm.evaluation import recall_at_k"
   ]
  },
  {
   "cell_type": "markdown",
   "metadata": {},
   "source": [
    "Piprema seta--postoji isti set u LightFm biblioteci pa možemo korisiti njega"
   ]
  },
  {
   "cell_type": "code",
   "execution_count": 21,
   "metadata": {},
   "outputs": [],
   "source": [
    "data = fetch_movielens(min_rating=4.0)"
   ]
  },
  {
   "cell_type": "markdown",
   "metadata": {},
   "source": [
    "Proveravanje objekata matrice neophodne za model"
   ]
  },
  {
   "cell_type": "code",
   "execution_count": 11,
   "metadata": {},
   "outputs": [
    {
     "name": "stdout",
     "output_type": "stream",
     "text": [
      "<943x1682 sparse matrix of type '<class 'numpy.int32'>'\n",
      "\twith 49906 stored elements in COOrdinate format>\n",
      "<943x1682 sparse matrix of type '<class 'numpy.int32'>'\n",
      "\twith 5469 stored elements in COOrdinate format>\n"
     ]
    }
   ],
   "source": [
    "print(repr(data['train']))\n",
    "print(repr(data['test']))"
   ]
  },
  {
   "cell_type": "code",
   "execution_count": 22,
   "metadata": {},
   "outputs": [
    {
     "data": {
      "text/plain": [
       "<lightfm.lightfm.LightFM at 0x29dcfae1648>"
      ]
     },
     "execution_count": 22,
     "metadata": {},
     "output_type": "execute_result"
    }
   ],
   "source": [
    "model = LightFM(loss='warp')\n",
    "model.fit(data['train'], epochs=30, num_threads=2)"
   ]
  },
  {
   "cell_type": "markdown",
   "metadata": {},
   "source": [
    "definisanje metrika"
   ]
  },
  {
   "cell_type": "code",
   "execution_count": 23,
   "metadata": {},
   "outputs": [],
   "source": [
    "def _get_metrics(model, train_set, test_set):\n",
    " \n",
    "    train_set = train_set.tocsr()\n",
    "    test_set = test_set.tocsr()\n",
    " \n",
    "    train_set.data[train_set.data < 0] = 0.0\n",
    "    test_set.data[test_set.data < 0] = 0.0\n",
    " \n",
    "    train_set.eliminate_zeros()\n",
    "    test_set.eliminate_zeros()\n",
    " \n",
    "    return (precision_at_k(model, train_set).mean(),\n",
    "            precision_at_k(model, test_set).mean(),\n",
    "            auc_score(model, train_set).mean(),\n",
    "            auc_score(model, test_set).mean(),\n",
    "            recall_at_k(model, train_set).mean(),\n",
    "            recall_at_k(model, train_set).mean())\n",
    "            \n",
    "\n"
   ]
  },
  {
   "cell_type": "markdown",
   "metadata": {},
   "source": [
    "funkcija za dobijanje liste preporuka"
   ]
  },
  {
   "cell_type": "code",
   "execution_count": 38,
   "metadata": {},
   "outputs": [],
   "source": [
    "def get_recommendations(model, data, user_ids):\n",
    "    n_users, n_items = data['train'].shape\n",
    "    for user_id in user_ids:\n",
    "        known_positives = data['item_labels'][data['train'].tocsr()[user_id].indices]\n",
    "        scores = model.predict(user_id, np.arange(n_items))\n",
    "        top_items = data['item_labels'][np.argsort(-scores)]\n",
    "    \n",
    "     \n",
    "        #print out the results\n",
    "        print(\"User with id number: %s\" % user_id)\n",
    "        print(\" Known Movies that the user has liked:\")\n",
    "\n",
    "        for x in known_positives[:5]:\n",
    "            print(\"        %s\" % x)\n",
    "\n",
    "        print(\"Recommended movies for the user:\")\n",
    "\n",
    "        for x in top_items[:10]:\n",
    "            print(\"        %s\" % x)\n"
   ]
  },
  {
   "cell_type": "code",
   "execution_count": 39,
   "metadata": {},
   "outputs": [
    {
     "name": "stdout",
     "output_type": "stream",
     "text": [
      "User with id number: 11\n",
      " Known Movies that the user has liked:\n",
      "        Get Shorty (1995)\n",
      "        Mr. Holland's Opus (1995)\n",
      "        Apollo 13 (1995)\n",
      "        Star Wars (1977)\n",
      "        Forrest Gump (1994)\n",
      "Recommended movies for the user:\n",
      "        Star Wars (1977)\n",
      "        Schindler's List (1993)\n",
      "        Silence of the Lambs, The (1991)\n",
      "        Raiders of the Lost Ark (1981)\n",
      "        Return of the Jedi (1983)\n",
      "        Forrest Gump (1994)\n",
      "        Braveheart (1995)\n",
      "        Shawshank Redemption, The (1994)\n",
      "        Fugitive, The (1993)\n",
      "        Godfather, The (1972)\n",
      "User with id number: 22\n",
      " Known Movies that the user has liked:\n",
      "        Toy Story (1995)\n",
      "        Twelve Monkeys (1995)\n",
      "        Babe (1995)\n",
      "        Mighty Aphrodite (1995)\n",
      "        Postino, Il (1994)\n",
      "Recommended movies for the user:\n",
      "        Star Wars (1977)\n",
      "        Fargo (1996)\n",
      "        Monty Python and the Holy Grail (1974)\n",
      "        Silence of the Lambs, The (1991)\n",
      "        Pulp Fiction (1994)\n",
      "        Princess Bride, The (1987)\n",
      "        Raiders of the Lost Ark (1981)\n",
      "        Return of the Jedi (1983)\n",
      "        Amadeus (1984)\n",
      "        Empire Strikes Back, The (1980)\n",
      "User with id number: 33\n",
      " Known Movies that the user has liked:\n",
      "        Rosewood (1997)\n",
      "        Lost Highway (1997)\n",
      "        Postman, The (1997)\n",
      "        Winter Guest, The (1997)\n",
      "        Anna Karenina (1997)\n",
      "Recommended movies for the user:\n",
      "        Thousand Acres, A (1997)\n",
      "        Mrs. Brown (Her Majesty, Mrs. Brown) (1997)\n",
      "        FairyTale: A True Story (1997)\n",
      "        English Patient, The (1996)\n",
      "        Anna Karenina (1997)\n",
      "        Full Monty, The (1997)\n",
      "        Kolya (1996)\n",
      "        L.A. Confidential (1997)\n",
      "        Wings of the Dove, The (1997)\n",
      "        Rosewood (1997)\n",
      "User with id number: 44\n",
      " Known Movies that the user has liked:\n",
      "        Toy Story (1995)\n",
      "        Mighty Aphrodite (1995)\n",
      "        Mr. Holland's Opus (1995)\n",
      "        Star Wars (1977)\n",
      "        Fargo (1996)\n",
      "Recommended movies for the user:\n",
      "        Jerry Maguire (1996)\n",
      "        Sense and Sensibility (1995)\n",
      "        Mr. Holland's Opus (1995)\n",
      "        Truth About Cats & Dogs, The (1996)\n",
      "        Scream (1996)\n",
      "        Star Wars (1977)\n",
      "        Contact (1997)\n",
      "        Return of the Jedi (1983)\n",
      "        Birdcage, The (1996)\n",
      "        Toy Story (1995)\n",
      "User with id number: 55\n",
      " Known Movies that the user has liked:\n",
      "        Toy Story (1995)\n",
      "        Twelve Monkeys (1995)\n",
      "        Seven (Se7en) (1995)\n",
      "        Braveheart (1995)\n",
      "        Birdcage, The (1996)\n",
      "Recommended movies for the user:\n",
      "        Raiders of the Lost Ark (1981)\n",
      "        Star Wars (1977)\n",
      "        Empire Strikes Back, The (1980)\n",
      "        Return of the Jedi (1983)\n",
      "        Independence Day (ID4) (1996)\n",
      "        Terminator 2: Judgment Day (1991)\n",
      "        Fugitive, The (1993)\n",
      "        Speed (1994)\n",
      "        Terminator, The (1984)\n",
      "        Jurassic Park (1993)\n"
     ]
    }
   ],
   "source": [
    "get_recommendations(model, data, [11, 22, 33, 44, 55])"
   ]
  },
  {
   "cell_type": "code",
   "execution_count": 37,
   "metadata": {},
   "outputs": [
    {
     "data": {
      "text/plain": [
       "(0.5204883,\n",
       " 0.08115632,\n",
       " 0.9566875,\n",
       " 0.91840386,\n",
       " 0.18834887060274244,\n",
       " 0.18834887060274244)"
      ]
     },
     "execution_count": 37,
     "metadata": {},
     "output_type": "execute_result"
    }
   ],
   "source": [
    "_get_metrics(model, data['train'], data['test'])"
   ]
  }
 ],
 "metadata": {
  "kernelspec": {
   "display_name": "Python 3",
   "language": "python",
   "name": "python3"
  },
  "language_info": {
   "codemirror_mode": {
    "name": "ipython",
    "version": 3
   },
   "file_extension": ".py",
   "mimetype": "text/x-python",
   "name": "python",
   "nbconvert_exporter": "python",
   "pygments_lexer": "ipython3",
   "version": "3.7.6"
  }
 },
 "nbformat": 4,
 "nbformat_minor": 4
}
